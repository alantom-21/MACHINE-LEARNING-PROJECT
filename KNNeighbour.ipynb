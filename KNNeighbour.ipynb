{
 "cells": [
  {
   "cell_type": "markdown",
   "metadata": {},
   "source": [
    "# Occupancy Detection\n",
    "\n",
    "\n",
    "This dataset contains environmental sensor readings collected from an indoor space, with a total of 17,895 records. Each entry includes a timestamp and measurements of key environmental factors such as temperature, humidity, light intensity, CO2 concentration, and humidity ratio. These variables provide insights into the indoor climate and air quality, which can be useful for various applications, including building automation and energy efficiency analysis. Additionally, the dataset includes an Occupancy variable, which is a binary indicator (0 or 1) showing whether the space was occupied at the time of recording.\n",
    "\n",
    "The presence of both environmental conditions and occupancy data makes this dataset particularly valuable for machine learning applications, such as predictive modeling for smart buildings. By analyzing patterns in temperature, light, and CO2 levels, models can be developed to accurately determine or predict occupancy, optimizing energy use in HVAC systems. Furthermore, this dataset can be leveraged for studies on indoor air quality and its correlation with human presence, potentially contributing to research in environmental sustainability and workplace comfort.\n",
    "\n",
    "## Impoting Libraries"
   ]
  },
  {
   "cell_type": "code",
   "execution_count": 96,
   "metadata": {},
   "outputs": [],
   "source": [
    "import pandas as pd\n",
    "import numpy as np\n",
    "import matplotlib.pyplot as plt\n",
    "import seaborn as sns\n",
    "\n",
    "from sklearn.model_selection import train_test_split\n",
    "from sklearn.preprocessing import StandardScaler\n",
    "from sklearn.neighbors import KNeighborsClassifier\n",
    "\n",
    "from sklearn import metrics\n",
    "from sklearn.metrics import accuracy_score\n",
    "\n"
   ]
  },
  {
   "cell_type": "markdown",
   "metadata": {},
   "source": [
    "## Loading Dataset"
   ]
  },
  {
   "cell_type": "code",
   "execution_count": 97,
   "metadata": {},
   "outputs": [
    {
     "name": "stdout",
     "output_type": "stream",
     "text": [
      "<class 'pandas.core.frame.DataFrame'>\n",
      "RangeIndex: 17895 entries, 0 to 17894\n",
      "Data columns (total 8 columns):\n",
      " #   Column         Non-Null Count  Dtype  \n",
      "---  ------         --------------  -----  \n",
      " 0   id             17895 non-null  int64  \n",
      " 1   date           17895 non-null  object \n",
      " 2   Temperature    17895 non-null  float64\n",
      " 3   Humidity       17895 non-null  float64\n",
      " 4   Light          17895 non-null  float64\n",
      " 5   CO2            17895 non-null  float64\n",
      " 6   HumidityRatio  17895 non-null  float64\n",
      " 7   Occupancy      17895 non-null  int64  \n",
      "dtypes: float64(5), int64(2), object(1)\n",
      "memory usage: 1.1+ MB\n"
     ]
    }
   ],
   "source": [
    "df=pd.read_csv(r\"C:\\Users\\alant\\Downloads\\datasetk\\datatrain.csv\")\n",
    "df.info()"
   ]
  },
  {
   "cell_type": "markdown",
   "metadata": {},
   "source": [
    "## Taking first 5 rows using Head()"
   ]
  },
  {
   "cell_type": "code",
   "execution_count": 98,
   "metadata": {},
   "outputs": [
    {
     "data": {
      "text/html": [
       "<div>\n",
       "<style scoped>\n",
       "    .dataframe tbody tr th:only-of-type {\n",
       "        vertical-align: middle;\n",
       "    }\n",
       "\n",
       "    .dataframe tbody tr th {\n",
       "        vertical-align: top;\n",
       "    }\n",
       "\n",
       "    .dataframe thead th {\n",
       "        text-align: right;\n",
       "    }\n",
       "</style>\n",
       "<table border=\"1\" class=\"dataframe\">\n",
       "  <thead>\n",
       "    <tr style=\"text-align: right;\">\n",
       "      <th></th>\n",
       "      <th>id</th>\n",
       "      <th>date</th>\n",
       "      <th>Temperature</th>\n",
       "      <th>Humidity</th>\n",
       "      <th>Light</th>\n",
       "      <th>CO2</th>\n",
       "      <th>HumidityRatio</th>\n",
       "      <th>Occupancy</th>\n",
       "    </tr>\n",
       "  </thead>\n",
       "  <tbody>\n",
       "    <tr>\n",
       "      <th>0</th>\n",
       "      <td>1</td>\n",
       "      <td>02/04/15 17:51</td>\n",
       "      <td>23.18</td>\n",
       "      <td>27.2720</td>\n",
       "      <td>426.0</td>\n",
       "      <td>721.25</td>\n",
       "      <td>0.004793</td>\n",
       "      <td>1</td>\n",
       "    </tr>\n",
       "    <tr>\n",
       "      <th>1</th>\n",
       "      <td>2</td>\n",
       "      <td>02/04/15 17:51</td>\n",
       "      <td>23.15</td>\n",
       "      <td>27.2675</td>\n",
       "      <td>429.5</td>\n",
       "      <td>714.00</td>\n",
       "      <td>0.004783</td>\n",
       "      <td>1</td>\n",
       "    </tr>\n",
       "    <tr>\n",
       "      <th>2</th>\n",
       "      <td>3</td>\n",
       "      <td>02/04/15 17:53</td>\n",
       "      <td>23.15</td>\n",
       "      <td>27.2450</td>\n",
       "      <td>426.0</td>\n",
       "      <td>713.50</td>\n",
       "      <td>0.004779</td>\n",
       "      <td>1</td>\n",
       "    </tr>\n",
       "    <tr>\n",
       "      <th>3</th>\n",
       "      <td>4</td>\n",
       "      <td>02/04/15 17:54</td>\n",
       "      <td>23.15</td>\n",
       "      <td>27.2000</td>\n",
       "      <td>426.0</td>\n",
       "      <td>708.25</td>\n",
       "      <td>0.004772</td>\n",
       "      <td>1</td>\n",
       "    </tr>\n",
       "    <tr>\n",
       "      <th>4</th>\n",
       "      <td>5</td>\n",
       "      <td>02/04/15 17:55</td>\n",
       "      <td>23.10</td>\n",
       "      <td>27.2000</td>\n",
       "      <td>426.0</td>\n",
       "      <td>704.50</td>\n",
       "      <td>0.004757</td>\n",
       "      <td>1</td>\n",
       "    </tr>\n",
       "  </tbody>\n",
       "</table>\n",
       "</div>"
      ],
      "text/plain": [
       "   id            date  Temperature  Humidity  Light     CO2  HumidityRatio  \\\n",
       "0   1  02/04/15 17:51        23.18   27.2720  426.0  721.25       0.004793   \n",
       "1   2  02/04/15 17:51        23.15   27.2675  429.5  714.00       0.004783   \n",
       "2   3  02/04/15 17:53        23.15   27.2450  426.0  713.50       0.004779   \n",
       "3   4  02/04/15 17:54        23.15   27.2000  426.0  708.25       0.004772   \n",
       "4   5  02/04/15 17:55        23.10   27.2000  426.0  704.50       0.004757   \n",
       "\n",
       "   Occupancy  \n",
       "0          1  \n",
       "1          1  \n",
       "2          1  \n",
       "3          1  \n",
       "4          1  "
      ]
     },
     "execution_count": 98,
     "metadata": {},
     "output_type": "execute_result"
    }
   ],
   "source": [
    "df.head()"
   ]
  },
  {
   "cell_type": "markdown",
   "metadata": {},
   "source": [
    "## Taking last 5 rows using Tail()"
   ]
  },
  {
   "cell_type": "code",
   "execution_count": 99,
   "metadata": {},
   "outputs": [
    {
     "data": {
      "text/html": [
       "<div>\n",
       "<style scoped>\n",
       "    .dataframe tbody tr th:only-of-type {\n",
       "        vertical-align: middle;\n",
       "    }\n",
       "\n",
       "    .dataframe tbody tr th {\n",
       "        vertical-align: top;\n",
       "    }\n",
       "\n",
       "    .dataframe thead th {\n",
       "        text-align: right;\n",
       "    }\n",
       "</style>\n",
       "<table border=\"1\" class=\"dataframe\">\n",
       "  <thead>\n",
       "    <tr style=\"text-align: right;\">\n",
       "      <th></th>\n",
       "      <th>id</th>\n",
       "      <th>date</th>\n",
       "      <th>Temperature</th>\n",
       "      <th>Humidity</th>\n",
       "      <th>Light</th>\n",
       "      <th>CO2</th>\n",
       "      <th>HumidityRatio</th>\n",
       "      <th>Occupancy</th>\n",
       "    </tr>\n",
       "  </thead>\n",
       "  <tbody>\n",
       "    <tr>\n",
       "      <th>17890</th>\n",
       "      <td>17891</td>\n",
       "      <td>02/18/15 9:15</td>\n",
       "      <td>20.815</td>\n",
       "      <td>27.7175</td>\n",
       "      <td>429.75</td>\n",
       "      <td>1505.25</td>\n",
       "      <td>0.004213</td>\n",
       "      <td>1</td>\n",
       "    </tr>\n",
       "    <tr>\n",
       "      <th>17891</th>\n",
       "      <td>17892</td>\n",
       "      <td>02/18/15 9:16</td>\n",
       "      <td>20.865</td>\n",
       "      <td>27.7450</td>\n",
       "      <td>423.50</td>\n",
       "      <td>1514.50</td>\n",
       "      <td>0.004230</td>\n",
       "      <td>1</td>\n",
       "    </tr>\n",
       "    <tr>\n",
       "      <th>17892</th>\n",
       "      <td>17893</td>\n",
       "      <td>02/18/15 9:16</td>\n",
       "      <td>20.890</td>\n",
       "      <td>27.7450</td>\n",
       "      <td>423.50</td>\n",
       "      <td>1521.50</td>\n",
       "      <td>0.004237</td>\n",
       "      <td>1</td>\n",
       "    </tr>\n",
       "    <tr>\n",
       "      <th>17893</th>\n",
       "      <td>17894</td>\n",
       "      <td>02/18/15 9:17</td>\n",
       "      <td>20.890</td>\n",
       "      <td>28.0225</td>\n",
       "      <td>418.75</td>\n",
       "      <td>1632.00</td>\n",
       "      <td>0.004279</td>\n",
       "      <td>1</td>\n",
       "    </tr>\n",
       "    <tr>\n",
       "      <th>17894</th>\n",
       "      <td>17895</td>\n",
       "      <td>02/18/15 9:19</td>\n",
       "      <td>21.000</td>\n",
       "      <td>28.1000</td>\n",
       "      <td>409.00</td>\n",
       "      <td>1864.00</td>\n",
       "      <td>0.004321</td>\n",
       "      <td>1</td>\n",
       "    </tr>\n",
       "  </tbody>\n",
       "</table>\n",
       "</div>"
      ],
      "text/plain": [
       "          id           date  Temperature  Humidity   Light      CO2  \\\n",
       "17890  17891  02/18/15 9:15       20.815   27.7175  429.75  1505.25   \n",
       "17891  17892  02/18/15 9:16       20.865   27.7450  423.50  1514.50   \n",
       "17892  17893  02/18/15 9:16       20.890   27.7450  423.50  1521.50   \n",
       "17893  17894  02/18/15 9:17       20.890   28.0225  418.75  1632.00   \n",
       "17894  17895  02/18/15 9:19       21.000   28.1000  409.00  1864.00   \n",
       "\n",
       "       HumidityRatio  Occupancy  \n",
       "17890       0.004213          1  \n",
       "17891       0.004230          1  \n",
       "17892       0.004237          1  \n",
       "17893       0.004279          1  \n",
       "17894       0.004321          1  "
      ]
     },
     "execution_count": 99,
     "metadata": {},
     "output_type": "execute_result"
    }
   ],
   "source": [
    "df.tail()"
   ]
  },
  {
   "cell_type": "markdown",
   "metadata": {},
   "source": [
    "## Data Cleaning"
   ]
  },
  {
   "cell_type": "code",
   "execution_count": 100,
   "metadata": {},
   "outputs": [],
   "source": [
    "df.columns=df.columns.str.replace(\"/\",\"_\")"
   ]
  },
  {
   "cell_type": "code",
   "execution_count": 101,
   "metadata": {},
   "outputs": [
    {
     "data": {
      "text/plain": [
       "id               0\n",
       "date             0\n",
       "Temperature      0\n",
       "Humidity         0\n",
       "Light            0\n",
       "CO2              0\n",
       "HumidityRatio    0\n",
       "Occupancy        0\n",
       "dtype: int64"
      ]
     },
     "execution_count": 101,
     "metadata": {},
     "output_type": "execute_result"
    }
   ],
   "source": [
    "df.isna().sum()"
   ]
  },
  {
   "cell_type": "code",
   "execution_count": 102,
   "metadata": {},
   "outputs": [
    {
     "data": {
      "text/plain": [
       "0"
      ]
     },
     "execution_count": 102,
     "metadata": {},
     "output_type": "execute_result"
    }
   ],
   "source": [
    "df.duplicated().sum()"
   ]
  },
  {
   "cell_type": "markdown",
   "metadata": {},
   "source": [
    "## Statistical Analysis\n",
    "### 1.Describe"
   ]
  },
  {
   "cell_type": "code",
   "execution_count": 103,
   "metadata": {},
   "outputs": [
    {
     "name": "stdout",
     "output_type": "stream",
     "text": [
      "                 id   Temperature      Humidity         Light           CO2  \\\n",
      "count  17895.000000  17895.000000  17895.000000  17895.000000  17895.000000   \n",
      "mean    8948.000000     20.827630     27.998747    121.453183    686.479722   \n",
      "std     5165.985869      1.036616      5.169896    202.207255    313.669585   \n",
      "min        1.000000     19.000000     16.745000      0.000000    412.750000   \n",
      "25%     4474.500000     20.100000     24.890000      0.000000    458.750000   \n",
      "50%     8948.000000     20.625000     27.793333      0.000000    564.000000   \n",
      "75%    13421.500000     21.500000     31.856667    217.916667    792.000000   \n",
      "max    17895.000000     24.390000     39.500000   1581.000000   2076.500000   \n",
      "\n",
      "       HumidityRatio     Occupancy  \n",
      "count   17895.000000  17895.000000  \n",
      "mean        0.004258      0.211120  \n",
      "std         0.000784      0.408115  \n",
      "min         0.002674      0.000000  \n",
      "25%         0.003767      0.000000  \n",
      "50%         0.004343      0.000000  \n",
      "75%         0.004860      0.000000  \n",
      "max         0.006476      1.000000  \n"
     ]
    }
   ],
   "source": [
    "num_col=df.select_dtypes(include=['float64','int64'])\n",
    "des=num_col.describe()\n",
    "print(des)"
   ]
  },
  {
   "cell_type": "markdown",
   "metadata": {},
   "source": [
    "### 2.Covariance"
   ]
  },
  {
   "cell_type": "code",
   "execution_count": 104,
   "metadata": {},
   "outputs": [
    {
     "name": "stdout",
     "output_type": "stream",
     "text": [
      "                         id  Temperature      Humidity         Light  \\\n",
      "id             2.668741e+07    69.749719  14664.485774 -33149.692410   \n",
      "Temperature    6.974972e+01     1.074573     -1.007742    140.617966   \n",
      "Humidity       1.466449e+04    -1.007742     26.727829    -61.883369   \n",
      "Light         -3.314969e+04   140.617966    -61.883369  40887.773971   \n",
      "CO2            6.803191e+05   128.341728    447.935674  25036.879268   \n",
      "HumidityRatio  2.257098e+00     0.000126      0.003810      0.027844   \n",
      "Occupancy     -2.849441e+01     0.219876      0.057551     75.158572   \n",
      "\n",
      "                         CO2  HumidityRatio  Occupancy  \n",
      "id             680319.072248   2.257098e+00 -28.494412  \n",
      "Temperature       128.341728   1.257038e-04   0.219876  \n",
      "Humidity          447.935674   3.809547e-03   0.057551  \n",
      "Light           25036.879268   2.784422e-02  75.158572  \n",
      "CO2             98388.608716   1.065092e-01  58.854778  \n",
      "HumidityRatio       0.106509   6.150018e-07   0.000070  \n",
      "Occupancy          58.854778   6.964548e-05   0.166558  \n"
     ]
    }
   ],
   "source": [
    "covariance=num_col.cov()\n",
    "print(covariance)"
   ]
  },
  {
   "cell_type": "markdown",
   "metadata": {},
   "source": [
    "### 3.Corelation"
   ]
  },
  {
   "cell_type": "code",
   "execution_count": 105,
   "metadata": {},
   "outputs": [
    {
     "name": "stdout",
     "output_type": "stream",
     "text": [
      "                     id  Temperature  Humidity     Light       CO2  \\\n",
      "id             1.000000     0.013025  0.549075 -0.031734  0.419843   \n",
      "Temperature    0.013025     1.000000 -0.188040  0.670851  0.394709   \n",
      "Humidity       0.549075    -0.188040  1.000000 -0.059196  0.276224   \n",
      "Light         -0.031734     0.670851 -0.059196  1.000000  0.394740   \n",
      "CO2            0.419843     0.394709  0.276224  0.394740  1.000000   \n",
      "HumidityRatio  0.557133     0.154630  0.939622  0.175590  0.432989   \n",
      "Occupancy     -0.013515     0.519730  0.027276  0.910750  0.459755   \n",
      "\n",
      "               HumidityRatio  Occupancy  \n",
      "id                  0.557133  -0.013515  \n",
      "Temperature         0.154630   0.519730  \n",
      "Humidity            0.939622   0.027276  \n",
      "Light               0.175590   0.910750  \n",
      "CO2                 0.432989   0.459755  \n",
      "HumidityRatio       1.000000   0.217607  \n",
      "Occupancy           0.217607   1.000000  \n"
     ]
    }
   ],
   "source": [
    "corealation=num_col.corr()\n",
    "print(corealation)"
   ]
  },
  {
   "cell_type": "markdown",
   "metadata": {},
   "source": [
    "## Heatmap"
   ]
  },
  {
   "cell_type": "code",
   "execution_count": 106,
   "metadata": {},
   "outputs": [
    {
     "data": {
      "text/plain": [
       "<Axes: >"
      ]
     },
     "execution_count": 106,
     "metadata": {},
     "output_type": "execute_result"
    },
    {
     "data": {
      "image/png": "[encoded data removed]",
      "text/plain": [
       "<Figure size 640x480 with 2 Axes>"
      ]
     },
     "metadata": {},
     "output_type": "display_data"
    }
   ],
   "source": [
    "sns.heatmap(corealation,annot=True,cmap='spring',fmt='0.2f',linewidths=0.8)"
   ]
  },
  {
   "cell_type": "code",
   "execution_count": 107,
   "metadata": {},
   "outputs": [
    {
     "data": {
      "text/plain": [
       "(array([0, 1, 2, 3, 4, 5, 6]),\n",
       " [Text(0, 0, 'id'),\n",
       "  Text(1, 0, 'Temperature'),\n",
       "  Text(2, 0, 'Humidity'),\n",
       "  Text(3, 0, 'Light'),\n",
       "  Text(4, 0, 'CO2'),\n",
       "  Text(5, 0, 'HumidityRatio'),\n",
       "  Text(6, 0, 'Occupancy')])"
      ]
     },
     "execution_count": 107,
     "metadata": {},
     "output_type": "execute_result"
    },
    {
     "data": {
      "image/png": "[encoded data removed]",
      "text/plain": [
       "<Figure size 640x480 with 1 Axes>"
      ]
     },
     "metadata": {},
     "output_type": "display_data"
    }
   ],
   "source": [
    "sns.boxenplot(data=df)\n",
    "plt.xticks(rotation=45)\n"
   ]
  },
  {
   "cell_type": "code",
   "execution_count": 115,
   "metadata": {},
   "outputs": [
    {
     "data": {
      "image/png": "[encoded data removed]",
      "text/plain": [
       "<Figure size 640x480 with 1 Axes>"
      ]
     },
     "metadata": {},
     "output_type": "display_data"
    }
   ],
   "source": [
    "plt.scatter(df['Temperature'],df['Occupancy'])\n",
    "plt.show()"
   ]
  },
  {
   "cell_type": "markdown",
   "metadata": {},
   "source": [
    "## Seperating dependent & Independent variables"
   ]
  },
  {
   "cell_type": "code",
   "execution_count": 108,
   "metadata": {},
   "outputs": [],
   "source": [
    "x=df.drop(columns=['date','Occupancy'],axis=1)\n",
    "y=df['Occupancy']"
   ]
  },
  {
   "cell_type": "markdown",
   "metadata": {},
   "source": [
    "## Split the Dataset into Training & Testing"
   ]
  },
  {
   "cell_type": "code",
   "execution_count": 110,
   "metadata": {},
   "outputs": [],
   "source": [
    "x_train,x_test,y_train,y_test=train_test_split(x,y,test_size=.20,random_state=0)"
   ]
  },
  {
   "cell_type": "code",
   "execution_count": 111,
   "metadata": {},
   "outputs": [],
   "source": [
    "stand=StandardScaler()\n",
    "x_train=stand.fit_transform(x_train)\n",
    "x_test=stand.fit_transform(x_test)"
   ]
  },
  {
   "cell_type": "markdown",
   "metadata": {},
   "source": [
    "## Building the KNN Model"
   ]
  },
  {
   "cell_type": "code",
   "execution_count": 112,
   "metadata": {},
   "outputs": [
    {
     "data": {
      "text/html": [
       "<style>#sk-container-id-6 {color: black;background-color: white;}#sk-container-id-6 pre{padding: 0;}#sk-container-id-6 div.sk-toggleable {background-color: white;}#sk-container-id-6 label.sk-toggleable__label {cursor: pointer;display: block;width: 100%;margin-bottom: 0;padding: 0.3em;box-sizing: border-box;text-align: center;}#sk-container-id-6 label.sk-toggleable__label-arrow:before {content: \"▸\";float: left;margin-right: 0.25em;color: #696969;}#sk-container-id-6 label.sk-toggleable__label-arrow:hover:before {color: black;}#sk-container-id-6 div.sk-estimator:hover label.sk-toggleable__label-arrow:before {color: black;}#sk-container-id-6 div.sk-toggleable__content {max-height: 0;max-width: 0;overflow: hidden;text-align: left;background-color: #f0f8ff;}#sk-container-id-6 div.sk-toggleable__content pre {margin: 0.2em;color: black;border-radius: 0.25em;background-color: #f0f8ff;}#sk-container-id-6 input.sk-toggleable__control:checked~div.sk-toggleable__content {max-height: 200px;max-width: 100%;overflow: auto;}#sk-container-id-6 input.sk-toggleable__control:checked~label.sk-toggleable__label-arrow:before {content: \"▾\";}#sk-container-id-6 div.sk-estimator input.sk-toggleable__control:checked~label.sk-toggleable__label {background-color: #d4ebff;}#sk-container-id-6 div.sk-label input.sk-toggleable__control:checked~label.sk-toggleable__label {background-color: #d4ebff;}#sk-container-id-6 input.sk-hidden--visually {border: 0;clip: rect(1px 1px 1px 1px);clip: rect(1px, 1px, 1px, 1px);height: 1px;margin: -1px;overflow: hidden;padding: 0;position: absolute;width: 1px;}#sk-container-id-6 div.sk-estimator {font-family: monospace;background-color: #f0f8ff;border: 1px dotted black;border-radius: 0.25em;box-sizing: border-box;margin-bottom: 0.5em;}#sk-container-id-6 div.sk-estimator:hover {background-color: #d4ebff;}#sk-container-id-6 div.sk-parallel-item::after {content: \"\";width: 100%;border-bottom: 1px solid gray;flex-grow: 1;}#sk-container-id-6 div.sk-label:hover label.sk-toggleable__label {background-color: #d4ebff;}#sk-container-id-6 div.sk-serial::before {content: \"\";position: absolute;border-left: 1px solid gray;box-sizing: border-box;top: 0;bottom: 0;left: 50%;z-index: 0;}#sk-container-id-6 div.sk-serial {display: flex;flex-direction: column;align-items: center;background-color: white;padding-right: 0.2em;padding-left: 0.2em;position: relative;}#sk-container-id-6 div.sk-item {position: relative;z-index: 1;}#sk-container-id-6 div.sk-parallel {display: flex;align-items: stretch;justify-content: center;background-color: white;position: relative;}#sk-container-id-6 div.sk-item::before, #sk-container-id-6 div.sk-parallel-item::before {content: \"\";position: absolute;border-left: 1px solid gray;box-sizing: border-box;top: 0;bottom: 0;left: 50%;z-index: -1;}#sk-container-id-6 div.sk-parallel-item {display: flex;flex-direction: column;z-index: 1;position: relative;background-color: white;}#sk-container-id-6 div.sk-parallel-item:first-child::after {align-self: flex-end;width: 50%;}#sk-container-id-6 div.sk-parallel-item:last-child::after {align-self: flex-start;width: 50%;}#sk-container-id-6 div.sk-parallel-item:only-child::after {width: 0;}#sk-container-id-6 div.sk-dashed-wrapped {border: 1px dashed gray;margin: 0 0.4em 0.5em 0.4em;box-sizing: border-box;padding-bottom: 0.4em;background-color: white;}#sk-container-id-6 div.sk-label label {font-family: monospace;font-weight: bold;display: inline-block;line-height: 1.2em;}#sk-container-id-6 div.sk-label-container {text-align: center;}#sk-container-id-6 div.sk-container {/* jupyter's `normalize.less` sets `[hidden] { display: none; }` but bootstrap.min.css set `[hidden] { display: none !important; }` so we also need the `!important` here to be able to override the default hidden behavior on the sphinx rendered scikit-learn.org. See: https://github.com/scikit-learn/scikit-learn/issues/21755 */display: inline-block !important;position: relative;}#sk-container-id-6 div.sk-text-repr-fallback {display: none;}</style><div id=\"sk-container-id-6\" class=\"sk-top-container\"><div class=\"sk-text-repr-fallback\"><pre>KNeighborsClassifier()</pre><b>In a Jupyter environment, please rerun this cell to show the HTML representation or trust the notebook. <br />On GitHub, the HTML representation is unable to render, please try loading this page with nbviewer.org.</b></div><div class=\"sk-container\" hidden><div class=\"sk-item\"><div class=\"sk-estimator sk-toggleable\"><input class=\"sk-toggleable__control sk-hidden--visually\" id=\"sk-estimator-id-6\" type=\"checkbox\" checked><label for=\"sk-estimator-id-6\" class=\"sk-toggleable__label sk-toggleable__label-arrow\">KNeighborsClassifier</label><div class=\"sk-toggleable__content\"><pre>KNeighborsClassifier()</pre></div></div></div></div></div>"
      ],
      "text/plain": [
       "KNeighborsClassifier()"
      ]
     },
     "execution_count": 112,
     "metadata": {},
     "output_type": "execute_result"
    }
   ],
   "source": [
    "model=KNeighborsClassifier(n_neighbors=5,p=2,metric=\"minkowski\")\n",
    "model.fit(x_train,y_train)\n",
    "\n"
   ]
  },
  {
   "cell_type": "markdown",
   "metadata": {},
   "source": [
    "## Predicting the test data"
   ]
  },
  {
   "cell_type": "code",
   "execution_count": 113,
   "metadata": {},
   "outputs": [
    {
     "name": "stdout",
     "output_type": "stream",
     "text": [
      "Mean absolute  error: 0.008382229673093043\n",
      "Mean squared error: 0.008382229673093043\n",
      "Root mean squared error: 0.09155451749145448\n"
     ]
    }
   ],
   "source": [
    "y_pred=model.predict(x_test)\n",
    "print(\"Mean absolute  error:\",metrics.mean_absolute_error(y_test,y_pred))\n",
    "print(\"Mean squared error:\",metrics.mean_squared_error(y_test,y_pred))\n",
    "print(\"Root mean squared error:\",np.sqrt(metrics.mean_squared_error(y_test,y_pred)))\n",
    "\n",
    "\n",
    "\n",
    "\n"
   ]
  },
  {
   "cell_type": "markdown",
   "metadata": {},
   "source": [
    "## Caluculating the Accuracy"
   ]
  },
  {
   "cell_type": "code",
   "execution_count": 114,
   "metadata": {},
   "outputs": [
    {
     "name": "stdout",
     "output_type": "stream",
     "text": [
      "The Accuracy is: 99.16177703269071 %\n"
     ]
    }
   ],
   "source": [
    "acc=accuracy_score(y_test,y_pred)\n",
    "print(\"The Accuracy is:\",acc*100,\"%\")"
   ]
  },
  {
   "cell_type": "markdown",
   "metadata": {},
   "source": [
    "## Summary\n",
    "This dataset provides a valuable resource for analyzing the relationship between indoor environmental conditions and occupancy patterns. With features such as temperature, humidity, light intensity, CO2 levels, and humidity ratio, researchers and developers can explore how these factors influence and predict human presence in a given space. The inclusion of an Occupancy label enables the development of machine learning models that can classify or forecast occupancy status based on sensor data. This can be particularly useful for energy-efficient building management, where heating, ventilation, and lighting systems can be adjusted dynamically to optimize resource usage.\n",
    "\n",
    "In conclusion, this dataset can serve multiple purposes, from occupancy detection and smart automation to indoor air quality monitoring. By leveraging data-driven insights, organizations can improve workplace comfort, reduce energy waste, and enhance overall building efficiency. Further analysis and feature engineering could refine predictive accuracy, making this dataset a strong foundation for intelligent systems in modern smart buildings and sustainability initiatives."
   ]
  }
 ],
 "metadata": {
  "kernelspec": {
   "display_name": "base",
   "language": "python",
   "name": "python3"
  },
  "language_info": {
   "codemirror_mode": {
    "name": "ipython",
    "version": 3
   },
   "file_extension": ".py",
   "mimetype": "text/x-python",
   "name": "python",
   "nbconvert_exporter": "python",
   "pygments_lexer": "ipython3",
   "version": "3.10.9"
  }
 },
 "nbformat": 4,
 "nbformat_minor": 2
}
